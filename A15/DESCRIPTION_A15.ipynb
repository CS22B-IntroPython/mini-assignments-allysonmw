{
  "nbformat": 4,
  "nbformat_minor": 0,
  "metadata": {
    "colab": {
      "provenance": []
    },
    "kernelspec": {
      "name": "python3",
      "display_name": "Python 3"
    },
    "language_info": {
      "name": "python"
    }
  },
  "cells": [
    {
      "cell_type": "code",
      "execution_count": null,
      "metadata": {
        "id": "oR49B8e97IMd"
      },
      "outputs": [],
      "source": [
        "This assignment focuses on understanding the implementation of generators in Python as a memory-efficient alternative to lists. The goal is to demonstrate the performance and memory differences between traditional list-based approaches and generator-based approaches when working with large datasets.\n",
        "\n",
        "What I Did\n",
        "Created two functions:\n",
        "get_numbers_list(n) – returns a list of numbers from 0 to n-1\n",
        "get_numbers_gen(n) – yields numbers from 0 to n-1 using the yield keyword\n",
        "Compared performance using Python’s time module by measuring how long it takes to sum 10 million numbers using each function\n",
        "Observed differences in runtime and memory efficiency between list and generator implementations"
      ]
    }
  ]
}