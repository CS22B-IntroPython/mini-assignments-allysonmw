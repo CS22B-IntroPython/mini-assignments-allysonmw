{
  "cells": [
    {
      "cell_type": "markdown",
      "source": [
        "##**Stack Questions**"
      ],
      "metadata": {
        "id": "cP32wAV3Yi-4"
      }
    },
    {
      "cell_type": "markdown",
      "source": [
        "## Question 1: Write a function to sort a stack."
      ],
      "metadata": {
        "id": "KqdNjm1oY_ss"
      }
    },
    {
      "cell_type": "code",
      "source": [
        "def sort_stack(stack):\n",
        "  # Your code here\n",
        "    helper_stack = []\n",
        "    while stack:\n",
        "        temp = stack.pop()\n",
        "        while helper_stack and helper_stack[-1] > temp:\n",
        "            stack.append(helper_stack.pop())\n",
        "        helper_stack.append(temp)\n",
        "\n",
        "    while helper_stack:\n",
        "        stack.append(helper_stack.pop())\n",
        "    return stack\n",
        "\n",
        "\n",
        "stack = [34, 3, 31, 98, 92, 23]\n",
        "print(sort_stack(stack))"
      ],
      "metadata": {
        "id": "mb9K46p3Ym0N",
        "colab": {
          "base_uri": "https://localhost:8080/"
        },
        "outputId": "31251f37-9232-4eec-bab1-a5506a5e409d"
      },
      "execution_count": 14,
      "outputs": [
        {
          "output_type": "stream",
          "name": "stdout",
          "text": [
            "[98, 92, 34, 31, 23, 3]\n"
          ]
        }
      ]
    },
    {
      "cell_type": "markdown",
      "metadata": {
        "id": "jFxb6ss_Whwl"
      },
      "source": [
        "## Question 2: Depict the following image as a list.\n",
        "\n",
        "<img src=\"https://miro.medium.com/max/1050/1*XifPIMxbamGKhz5UAEdz2w.png\">\n",
        "\n",
        "#### Queue\n",
        "1. Add the number 9 to the list.\n",
        "2. Remove the first number (7) from the list.\n",
        "\n",
        "#### Stack\n",
        "3. Add the number 4 to the same list.\n",
        "4. Remove the last number added (4) from the list."
      ]
    },
    {
      "cell_type": "code",
      "execution_count": 11,
      "metadata": {
        "id": "XOm7YLTEWhwm",
        "colab": {
          "base_uri": "https://localhost:8080/"
        },
        "outputId": "28e1565f-e87d-46f1-875e-db049f430c8d"
      },
      "outputs": [
        {
          "output_type": "stream",
          "name": "stdout",
          "text": [
            "[3, 1, 6, 8, 9]\n"
          ]
        }
      ],
      "source": [
        "numbers = [7, 3, 1, 6, 8]\n",
        "\n",
        "numbers.append(9)\n",
        "numbers.pop(0)\n",
        "\n",
        "numbers.append(4)\n",
        "numbers.pop()\n",
        "\n",
        "print(numbers)"
      ]
    },
    {
      "cell_type": "markdown",
      "metadata": {
        "id": "tQ3kgHVtWhwn"
      },
      "source": [
        "#### Question 3: Nodes\n",
        "\n",
        "<img src=\"https://encrypted-tbn0.gstatic.com/images?q=tbn:ANd9GcQW8-twGk0hCILE-muHBnG93hZJh2Qvgs7pVA&s\">\n",
        "\n",
        "1. Use a data structure of your choice to denote the different nodes.\n",
        "\n",
        "2. Create a function that sums all of the \"children\". Test with the node 10 (Expected answer is 37).\n"
      ]
    },
    {
      "cell_type": "code",
      "execution_count": 9,
      "metadata": {
        "id": "UU0rjzjXWhwn",
        "colab": {
          "base_uri": "https://localhost:8080/"
        },
        "outputId": "f42048d1-6d77-4e35-ac8d-c0f2ae2b91b3"
      },
      "outputs": [
        {
          "output_type": "stream",
          "name": "stdout",
          "text": [
            "Sum of all children for node 10: 27\n"
          ]
        }
      ],
      "source": [
        "class Node:\n",
        "    def __init__(self, value):\n",
        "        self.value = value\n",
        "        self.children = []\n",
        "\n",
        "    def add_child(self, child):\n",
        "        self.children.append(child)\n",
        "\n",
        "#creating nodes\n",
        "node1 = Node(1)\n",
        "node3 = Node(3)\n",
        "node6 = Node(6)\n",
        "node4 = Node(4)\n",
        "node7 = Node(7)\n",
        "node8 = Node(8)\n",
        "node10 = Node(10)\n",
        "node13 = Node(13)\n",
        "node14 = Node(14)\n",
        "\n",
        "#linking nodes as per the diagram\n",
        "node8.children = [node3, node10]\n",
        "node3.children = [node1, node6]\n",
        "node6.children = [node4, node7]\n",
        "node10.children = [node14, node13]\n",
        "\n",
        "#function to recursively sum all children nodes\n",
        "def sum_all_children(node):\n",
        "    if node is None:\n",
        "        return 0\n",
        "    total_sum = 0\n",
        "    nodes_to_visit = [node]\n",
        "    while nodes_to_visit:\n",
        "        current = nodes_to_visit.pop(0)\n",
        "        for child in current.children:\n",
        "            total_sum += child.value\n",
        "            nodes_to_visit.append(child)\n",
        "    return total_sum\n",
        "\n",
        "#testing the function with node 10\n",
        "print(\"Sum of all children for node 10:\", sum_all_children(node10))\n",
        "\n",
        "#output should be 27"
      ]
    }
  ],
  "metadata": {
    "hide_input": false,
    "kernelspec": {
      "display_name": "Python 3",
      "language": "python",
      "name": "python3"
    },
    "language_info": {
      "codemirror_mode": {
        "name": "ipython",
        "version": 3
      },
      "file_extension": ".py",
      "mimetype": "text/x-python",
      "name": "python",
      "nbconvert_exporter": "python",
      "pygments_lexer": "ipython3",
      "version": "3.8.3"
    },
    "toc": {
      "base_numbering": 1,
      "nav_menu": {},
      "number_sections": true,
      "sideBar": true,
      "skip_h1_title": false,
      "title_cell": "Table of Contents",
      "title_sidebar": "Contents",
      "toc_cell": false,
      "toc_position": {},
      "toc_section_display": true,
      "toc_window_display": false
    },
    "colab": {
      "provenance": []
    }
  },
  "nbformat": 4,
  "nbformat_minor": 0
}